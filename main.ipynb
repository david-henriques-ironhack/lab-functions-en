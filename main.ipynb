{
  "cells": [
    {
      "cell_type": "markdown",
      "metadata": {
        "id": "Zxzmd1JcZPAG"
      },
      "source": [
        "# Functions"
      ]
    },
    {
      "cell_type": "markdown",
      "metadata": {
        "id": "M28Mg5KGZPAH"
      },
      "source": [
        "On this lab we will put to practice some of the concepts we have learned on this past few days.\n",
        "\n",
        "`NOTE: On this lab you should try to write all the functions yourself using only the most basic of python syntax and without functions such as len, count, sum, max, min, in, etc. Give it a try. 🧑🏻‍💻👩🏻‍💻`\n",
        "\n",
        "The cell after each exercise contains a few tests to check if your function works as expected."
      ]
    },
    {
      "cell_type": "code",
      "source": [
        "from google.colab import drive\n",
        "drive.mount('/content/drive')"
      ],
      "metadata": {
        "colab": {
          "base_uri": "https://localhost:8080/"
        },
        "id": "nXfNRRQfasrU",
        "outputId": "11376828-2f2d-405a-a874-3bb8f452c686"
      },
      "execution_count": null,
      "outputs": [
        {
          "output_type": "stream",
          "name": "stdout",
          "text": [
            "Mounted at /content/drive\n"
          ]
        }
      ]
    },
    {
      "cell_type": "markdown",
      "metadata": {
        "id": "33hcRdcHZPAJ"
      },
      "source": [
        "## 1. Write a function that returns the greater of two numbers"
      ]
    },
    {
      "cell_type": "code",
      "execution_count": 2,
      "metadata": {
        "id": "AugyakHzZPAJ"
      },
      "outputs": [],
      "source": [
        "def test_greater(a,b):\n",
        "  if a > b:\n",
        "    return print(f'{a} is greater than {b}')\n",
        "  elif a < b:\n",
        "    return print(f'{b} is greater than {a}')\n",
        "  else:\n",
        "    return print(f'{a} is equal to {b}')"
      ]
    },
    {
      "cell_type": "code",
      "execution_count": 3,
      "metadata": {
        "colab": {
          "base_uri": "https://localhost:8080/"
        },
        "id": "7AfdBJaCZPAJ",
        "outputId": "f51cb8ef-0330-4fc2-96d5-092b0d480d8d"
      },
      "outputs": [
        {
          "output_type": "stream",
          "name": "stdout",
          "text": [
            "7 is greater than 6\n"
          ]
        }
      ],
      "source": [
        "# This will test your function\n",
        "test_greater(7,6)"
      ]
    },
    {
      "cell_type": "code",
      "execution_count": 4,
      "metadata": {
        "colab": {
          "base_uri": "https://localhost:8080/"
        },
        "id": "6bqbU3hLZPAK",
        "outputId": "1d965908-e8c4-4536-a48f-826824cf4602"
      },
      "outputs": [
        {
          "output_type": "stream",
          "name": "stdout",
          "text": [
            "12 is greater than 11\n"
          ]
        }
      ],
      "source": [
        "test_greater(11,12)"
      ]
    },
    {
      "cell_type": "markdown",
      "metadata": {
        "id": "Bj60oU9IZPAK"
      },
      "source": [
        "## 2. Now write a function that returns the largest element on a list"
      ]
    },
    {
      "cell_type": "code",
      "execution_count": null,
      "metadata": {
        "id": "yfOFzyDZZPAK"
      },
      "outputs": [],
      "source": [
        "def test_largest(lst):\n",
        "    if list == []:\n",
        "        return None\n",
        "    else:\n",
        "        largest = lst[0]\n",
        "        for num in lst:\n",
        "            if num > largest:\n",
        "                largest = num\n",
        "        return largest"
      ]
    },
    {
      "cell_type": "code",
      "execution_count": null,
      "metadata": {
        "colab": {
          "base_uri": "https://localhost:8080/"
        },
        "id": "Qsavve3SZPAK",
        "outputId": "e81667f7-5029-4020-ccef-71db2dc957f8"
      },
      "outputs": [
        {
          "output_type": "execute_result",
          "data": {
            "text/plain": [
              "4"
            ]
          },
          "metadata": {},
          "execution_count": 16
        }
      ],
      "source": [
        "# This will test your function\n",
        "larger_list = [1,2,3,4,0]\n",
        "test_largest(larger_list)"
      ]
    },
    {
      "cell_type": "markdown",
      "metadata": {
        "id": "owGp3-3sZPAL"
      },
      "source": [
        "## 3. Write a function that sums all the elements on a list"
      ]
    },
    {
      "cell_type": "code",
      "execution_count": null,
      "metadata": {
        "id": "kC4Gr5mrZPAL"
      },
      "outputs": [],
      "source": [
        "def test_sum(lst):\n",
        "  sum_lst = 0\n",
        "  for num in lst:\n",
        "    sum_lst += num\n",
        "  return sum_lst\n"
      ]
    },
    {
      "cell_type": "code",
      "execution_count": null,
      "metadata": {
        "scrolled": true,
        "colab": {
          "base_uri": "https://localhost:8080/"
        },
        "id": "jQvgCbteZPAL",
        "outputId": "65e1e4cd-c00e-4a42-a6b6-549f778ed4f5"
      },
      "outputs": [
        {
          "output_type": "execute_result",
          "data": {
            "text/plain": [
              "10"
            ]
          },
          "metadata": {},
          "execution_count": 21
        }
      ],
      "source": [
        "# This will test your function\n",
        "sum_all = [1,2,3,4,0]\n",
        "test_sum(sum_all)"
      ]
    },
    {
      "cell_type": "markdown",
      "metadata": {
        "id": "882UNNIXZPAL"
      },
      "source": [
        "## 4. Write another function that multiplies all the elements on a list"
      ]
    },
    {
      "cell_type": "code",
      "execution_count": null,
      "metadata": {
        "id": "dg3skXJwZPAM"
      },
      "outputs": [],
      "source": [
        "def test_mult(lst):\n",
        "  mult_lst = 1\n",
        "  for num in lst:\n",
        "    mult_lst *= num\n",
        "  return mult_lst"
      ]
    },
    {
      "cell_type": "code",
      "execution_count": null,
      "metadata": {
        "scrolled": true,
        "colab": {
          "base_uri": "https://localhost:8080/"
        },
        "id": "9TH2_I60ZPAM",
        "outputId": "9be44137-28f8-42d5-f330-41a126795b9b"
      },
      "outputs": [
        {
          "output_type": "execute_result",
          "data": {
            "text/plain": [
              "120"
            ]
          },
          "metadata": {},
          "execution_count": 25
        }
      ],
      "source": [
        "# This will test your function\n",
        "mult_all = [1,2,3,4,5]\n",
        "test_mult(mult_all)"
      ]
    },
    {
      "cell_type": "markdown",
      "metadata": {
        "id": "00PvjpfOZPAM"
      },
      "source": [
        "## 5. Now combine those two ideas and write a function that receives a list and either \"+\" or \"*\" and outputs acordingly"
      ]
    },
    {
      "cell_type": "code",
      "execution_count": 10,
      "metadata": {
        "id": "1gs6cr18ZPAM"
      },
      "outputs": [],
      "source": [
        "from array import array\n",
        "def oper_all(arr, oper):\n",
        "        if not arr:\n",
        "            return None\n",
        "\n",
        "        if oper == \"sum\":\n",
        "            result = 0\n",
        "            for num in arr:\n",
        "                result += num\n",
        "            return f'The sum of the numbers is: {result}'\n",
        "        elif oper == \"multi\":\n",
        "            result = 1\n",
        "            for num in arr:\n",
        "                result *= num\n",
        "            return f'The multiplication of the numbers is: {result}'\n",
        "        else:\n",
        "            return \"Invalid operation\"\n"
      ]
    },
    {
      "cell_type": "code",
      "execution_count": 11,
      "metadata": {
        "colab": {
          "base_uri": "https://localhost:8080/"
        },
        "id": "JpoUpSAGZPAM",
        "outputId": "6eab04be-2cea-4681-d3ab-50518530af2e"
      },
      "outputs": [
        {
          "output_type": "stream",
          "name": "stdout",
          "text": [
            "The sum of the numbers is: 15\n",
            "The multiplication of the numbers is: 120\n"
          ]
        }
      ],
      "source": [
        "# This will test your function\n",
        "arr = [1,2,3,4,5]\n",
        "print(oper_all(arr, \"sum\"))\n",
        "print(oper_all(arr, \"multi\"))\n"
      ]
    },
    {
      "cell_type": "markdown",
      "metadata": {
        "id": "Uc7kFEVeZPAN"
      },
      "source": [
        "## 6. Write a function that returns the factorial of a number."
      ]
    },
    {
      "cell_type": "code",
      "execution_count": 16,
      "metadata": {
        "id": "3lU6Nwz0ZPAN"
      },
      "outputs": [],
      "source": [
        "def factorial(n):\n",
        "  n = input(\"Enter a positive number: \")\n",
        "  n = int(n)\n",
        "  if n < 0:\n",
        "    return \"Please enter a positive number\"\n",
        "  elif n == 0:\n",
        "    return 1\n",
        "  else:\n",
        "    result = 1\n",
        "    number = 1\n",
        "    while number <= n:\n",
        "      result *= number\n",
        "      number += 1\n",
        "    return f'The factorial of {n} is: {result}'"
      ]
    },
    {
      "cell_type": "code",
      "execution_count": null,
      "metadata": {
        "id": "cWHl6wZRZPAN"
      },
      "outputs": [],
      "source": [
        "#factorial formula\n",
        "#n! = n * ( n - 1 ) *...*1\n",
        "\n",
        "# This code defines a function called \"factorial\" which takes an input \"n\". The function uses a for loop to iterate through the range of numbers\n",
        "# from 1 to n+1. For each number in that range, it multiplies the current value of x by the number in the range. At the end of the loop,\n",
        "# the function returns the final value of x, which will be the factorial of the input number \"n\".\n",
        "\n",
        "# The Factorial of a positive integer n is the product of all positive integers less than or equal to n.\n",
        "# For example, the factorial of 6 (written \"6!\") is 6 * 5 * 4 * 3 * 2 * 1 = 720.\n",
        "\n",
        "# So this function takes an input of any positive integer, and returns the factorial of that number."
      ]
    },
    {
      "cell_type": "code",
      "execution_count": 17,
      "metadata": {
        "id": "UKpeNXvbZPAN",
        "colab": {
          "base_uri": "https://localhost:8080/",
          "height": 53
        },
        "outputId": "61b688c3-a747-4c79-d217-9498c7e1e533"
      },
      "outputs": [
        {
          "name": "stdout",
          "output_type": "stream",
          "text": [
            "Enter a positive number: 5\n"
          ]
        },
        {
          "output_type": "execute_result",
          "data": {
            "text/plain": [
              "'The factorial of 5 is: 120'"
            ],
            "application/vnd.google.colaboratory.intrinsic+json": {
              "type": "string"
            }
          },
          "metadata": {},
          "execution_count": 17
        }
      ],
      "source": [
        "# This will test your function\n",
        "factorial(n)"
      ]
    },
    {
      "cell_type": "markdown",
      "metadata": {
        "id": "QcEbiKBxZPAN"
      },
      "source": [
        "## 7. Write a function that takes a list and returns a list of the unique values.\n",
        "\n",
        "`NOTE: You cannot use set. 🤔`"
      ]
    },
    {
      "cell_type": "code",
      "execution_count": 18,
      "metadata": {
        "id": "MFONVrwVZPAN"
      },
      "outputs": [],
      "source": [
        "def unique(lst_un):\n",
        "  unique_list = []\n",
        "  for item in lst_un:\n",
        "      if item not in unique_list:\n",
        "        unique_list.append(item)\n",
        "  return print(unique_list)"
      ]
    },
    {
      "cell_type": "code",
      "execution_count": 19,
      "metadata": {
        "id": "lETaMAI8ZPAO",
        "colab": {
          "base_uri": "https://localhost:8080/"
        },
        "outputId": "097c452e-7438-4ca4-a250-7a5b3a28329d"
      },
      "outputs": [
        {
          "output_type": "stream",
          "name": "stdout",
          "text": [
            "[1, 2, 3, 4, 5]\n"
          ]
        }
      ],
      "source": [
        "# This will test your function\n",
        "lst_un = [1,1,2,2,3,3,4,4,5,5]\n",
        "unique(lst_un)"
      ]
    },
    {
      "cell_type": "markdown",
      "metadata": {
        "id": "W_nZhfdxZPAO"
      },
      "source": [
        "## 8. Write a function that returns the mode of a list, i.e.: the element that appears the most times.\n",
        "`NOTE: You should not use count... 🧐`"
      ]
    },
    {
      "cell_type": "code",
      "execution_count": 21,
      "metadata": {
        "id": "n3F6lKz0ZPAO"
      },
      "outputs": [],
      "source": [
        "def mode_counter(arr):\n",
        "  mode_counter = {}\n",
        "  for item in arr:\n",
        "    if item in mode_counter:\n",
        "      mode_counter[item] += 1\n",
        "    else:\n",
        "      mode_counter[item] = 1\n",
        "  return mode_counter"
      ]
    },
    {
      "cell_type": "code",
      "execution_count": 23,
      "metadata": {
        "id": "lQtY3G__ZPAO",
        "colab": {
          "base_uri": "https://localhost:8080/"
        },
        "outputId": "7eb36939-c670-4836-eb7f-c557822d589c"
      },
      "outputs": [
        {
          "output_type": "execute_result",
          "data": {
            "text/plain": [
              "{'spider': 3, 'ant': 3, 'beetle': 2, 'grasshopper': 1}"
            ]
          },
          "metadata": {},
          "execution_count": 23
        }
      ],
      "source": [
        "arr = [\"spider\", \"spider\", \"ant\", \"beetle\", \"ant\", \"spider\", \"grasshopper\", \"ant\", \"beetle\"]\n",
        "mode_counter(arr)"
      ]
    },
    {
      "cell_type": "markdown",
      "metadata": {
        "id": "jpVnPhl6ZPAO"
      },
      "source": [
        "## 9. Write a function that calculates the standard deviation of a list.\n",
        "`NOTE: Do not use any libraries or already built functions. 😉`"
      ]
    },
    {
      "cell_type": "code",
      "execution_count": 4,
      "metadata": {
        "id": "wlAPiKptZPAO"
      },
      "outputs": [],
      "source": [
        "def st_dev(list_sd):\n",
        "  sum_lst = 0\n",
        "  sum_elements = 0\n",
        "  sqrd_lst = []\n",
        "  sum_sqr_lst = 0\n",
        "  for num in lst_sd:\n",
        "    sum_lst += num\n",
        "    sum_elements += 1\n",
        "  mean_lst = sum_lst / sum_elements\n",
        "\n",
        "  for num in lst_sd:\n",
        "    num = (num - mean_lst) ** 2\n",
        "    sqrd_lst.append(num)\n",
        "\n",
        "  for num in sqrd_lst:\n",
        "    sum_sqr_lst += num\n",
        "  mean_sqr_lst = sum_sqr_lst / sum_elements\n",
        "\n",
        "  std_deviation = 1\n",
        "  counter = 0\n",
        "  while counter < 10:\n",
        "    std_deviation = 0.5 * (std_deviation + (mean_sqr_lst / std_deviation))\n",
        "    counter += 1\n",
        "  return print(f'The standard deviation of the list is: {std_deviation}')\n",
        "\n",
        "\n",
        "\n",
        "\n",
        "\n",
        ""
      ]
    },
    {
      "cell_type": "code",
      "execution_count": 5,
      "metadata": {
        "id": "_byTjWejZPAP",
        "colab": {
          "base_uri": "https://localhost:8080/"
        },
        "outputId": "edd59a2c-a803-4e0b-aed2-2afdd763245d"
      },
      "outputs": [
        {
          "output_type": "stream",
          "name": "stdout",
          "text": [
            "The standard deviation of the list is: 1.414213562373095\n"
          ]
        }
      ],
      "source": [
        "list_sd = [1,2,3,4,5]\n",
        "\n",
        "st_dev(list_sd)"
      ]
    },
    {
      "cell_type": "markdown",
      "metadata": {
        "id": "paOe0g_qZPAP"
      },
      "source": [
        "## 10. Write a function to check if a string is a pangram, i.e.: if it contains all the letters of the alphabet at least once. Mind that the strings may contain characters that are not letters."
      ]
    },
    {
      "cell_type": "code",
      "execution_count": 10,
      "metadata": {
        "id": "QrkDrVwyZPAP"
      },
      "outputs": [],
      "source": [
        "def pangram(test_string):\n",
        "  alphabet = \"abcdefghijklmnopqrstuvwxyz\"\n",
        "  for char in alphabet:\n",
        "    if char not in test_string.lower():\n",
        "      return (f'The given string is not a pangram.')\n",
        "  return (f'The given string is a pangram.')"
      ]
    },
    {
      "cell_type": "code",
      "execution_count": 61,
      "metadata": {
        "id": "jC18NzrCZPAP",
        "colab": {
          "base_uri": "https://localhost:8080/",
          "height": 35
        },
        "outputId": "d7194a7a-a739-4e4a-bf20-2087a4f34cce"
      },
      "outputs": [
        {
          "output_type": "execute_result",
          "data": {
            "text/plain": [
              "'The given string is a pangram.'"
            ],
            "application/vnd.google.colaboratory.intrinsic+json": {
              "type": "string"
            }
          },
          "metadata": {},
          "execution_count": 61
        }
      ],
      "source": [
        "test_string = \"The quick brown fox jumps over the lazy dog 2 times.\"\n",
        "pangram(test_string)"
      ]
    },
    {
      "cell_type": "markdown",
      "metadata": {
        "id": "7pE20M90ZPAP"
      },
      "source": [
        "## 11. Write a function that receives a string of comma separated words and returns a string of comma separated words sorted alphabetically.\n",
        "\n",
        "`NOTE: You may use sorted but not split and definitely no join! 🤪`"
      ]
    },
    {
      "cell_type": "code",
      "execution_count": 69,
      "metadata": {
        "id": "8bJZt37-ZPAP"
      },
      "outputs": [],
      "source": [
        "def sort_alpha(test_string):\n",
        "  separate_words = []\n",
        "  word = \"\"\n",
        "\n",
        "  for char in test_string:\n",
        "    if char != \" \" and char != \",\":\n",
        "      word += char\n",
        "    else:\n",
        "      if word:\n",
        "        separate_words.append(word)\n",
        "        word = \"\"\n",
        "  if word:\n",
        "    separate_words.append(word)\n",
        "    sorted_words = sorted(separate_words)\n",
        "  return sorted_words"
      ]
    },
    {
      "cell_type": "code",
      "execution_count": 70,
      "metadata": {
        "id": "I6QsfPRcZPAQ",
        "colab": {
          "base_uri": "https://localhost:8080/"
        },
        "outputId": "71da3456-5e5c-4344-d3d3-7be7776322b9"
      },
      "outputs": [
        {
          "output_type": "stream",
          "name": "stdout",
          "text": [
            "['2', 'The', 'brown', 'dog', 'fox', 'jumps', 'lazy', 'over', 'quick', 'the', 'times.']\n"
          ]
        }
      ],
      "source": [
        "new_string = \"The quick brown fox, jumps over the lazy dog 2 times.\"\n",
        "print(sort_alpha(new_string))"
      ]
    },
    {
      "cell_type": "markdown",
      "metadata": {
        "id": "rCf_1z96ZPAQ"
      },
      "source": [
        "## 12. Write a function to check if a given password is strong (at least 8 characters, at least one lower case, at least one upper case, at least one number and at least one special character). It should output True if strong and False if not."
      ]
    },
    {
      "cell_type": "code",
      "execution_count": 45,
      "metadata": {
        "id": "eplyB1yqZPAZ"
      },
      "outputs": [],
      "source": [
        "def check_pass(password):\n",
        "  letters = (\"ABCDEFGHIJKLMNOPQRSTUVWXYZ\")\n",
        "  numbers = (\"0123456789\")\n",
        "  special = ('\"(\"!@#$%^&*\"')\n",
        "  count_elements = 0\n",
        "  for char in password:\n",
        "    count_elements += 1\n",
        "  if count_elements < 8:\n",
        "    return False\n",
        "  else:\n",
        "    count_lower = 0\n",
        "    count_upper = 0\n",
        "    count_number = 0\n",
        "    count_special = 0\n",
        "    for char in password:\n",
        "      if char in letters:\n",
        "        count_upper += 1\n",
        "      elif char in letters.lower():\n",
        "        count_lower += 1\n",
        "      elif char in numbers:\n",
        "        count_number += 1\n",
        "      elif char in special:\n",
        "        count_special += 1\n",
        "\n",
        "    if count_lower > 0 and count_upper > 0 and count_number > 0 and count_special > 0:\n",
        "      return True\n",
        "    else:\n",
        "      return False\n",
        "\n",
        "\n",
        "\n",
        "\n",
        "\n",
        "\n"
      ]
    },
    {
      "cell_type": "code",
      "execution_count": 51,
      "metadata": {
        "id": "aQCn-BoqZPAZ",
        "colab": {
          "base_uri": "https://localhost:8080/"
        },
        "outputId": "90e3660e-bc73-40ff-aead-9e15f4471ac2"
      },
      "outputs": [
        {
          "output_type": "execute_result",
          "data": {
            "text/plain": [
              "True"
            ]
          },
          "metadata": {},
          "execution_count": 51
        }
      ],
      "source": [
        "password = \"Yu%356WWsa//\"\n",
        "check_pass(password)"
      ]
    }
  ],
  "metadata": {
    "kernelspec": {
      "display_name": "Python 3 (ipykernel)",
      "language": "python",
      "name": "python3"
    },
    "language_info": {
      "codemirror_mode": {
        "name": "ipython",
        "version": 3
      },
      "file_extension": ".py",
      "mimetype": "text/x-python",
      "name": "python",
      "nbconvert_exporter": "python",
      "pygments_lexer": "ipython3",
      "version": "3.9.13"
    },
    "vscode": {
      "interpreter": {
        "hash": "aee8b7b246df8f9039afb4144a1f6fd8d2ca17a180786b69acc140d282b71a49"
      }
    },
    "colab": {
      "provenance": []
    }
  },
  "nbformat": 4,
  "nbformat_minor": 0
}