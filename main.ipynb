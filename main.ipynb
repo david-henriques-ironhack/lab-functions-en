{
  "cells": [
    {
      "cell_type": "markdown",
      "metadata": {
        "id": "Zxzmd1JcZPAG"
      },
      "source": [
        "# Functions"
      ]
    },
    {
      "cell_type": "markdown",
      "metadata": {
        "id": "M28Mg5KGZPAH"
      },
      "source": [
        "On this lab we will put to practice some of the concepts we have learned on this past few days.\n",
        "\n",
        "`NOTE: On this lab you should try to write all the functions yourself using only the most basic of python syntax and without functions such as len, count, sum, max, min, in, etc. Give it a try. 🧑🏻‍💻👩🏻‍💻`\n",
        "\n",
        "The cell after each exercise contains a few tests to check if your function works as expected."
      ]
    },
    {
      "cell_type": "code",
      "source": [
        "from google.colab import drive\n",
        "drive.mount('/content/drive')"
      ],
      "metadata": {
        "colab": {
          "base_uri": "https://localhost:8080/"
        },
        "id": "nXfNRRQfasrU",
        "outputId": "11376828-2f2d-405a-a874-3bb8f452c686"
      },
      "execution_count": null,
      "outputs": [
        {
          "output_type": "stream",
          "name": "stdout",
          "text": [
            "Mounted at /content/drive\n"
          ]
        }
      ]
    },
    {
      "cell_type": "markdown",
      "metadata": {
        "id": "33hcRdcHZPAJ"
      },
      "source": [
        "## 1. Write a function that returns the greater of two numbers"
      ]
    },
    {
      "cell_type": "code",
      "execution_count": 52,
      "metadata": {
        "id": "AugyakHzZPAJ"
      },
      "outputs": [],
      "source": [
        "def test_greater(a,b):\n",
        "  if a > b:\n",
        "    return a\n",
        "  elif a < b:\n",
        "    return b\n",
        "  else:\n",
        "    return none"
      ]
    },
    {
      "cell_type": "code",
      "execution_count": 53,
      "metadata": {
        "colab": {
          "base_uri": "https://localhost:8080/"
        },
        "id": "7AfdBJaCZPAJ",
        "outputId": "6a077dc3-3729-4b0f-d630-7058b273f2ca"
      },
      "outputs": [
        {
          "output_type": "execute_result",
          "data": {
            "text/plain": [
              "7"
            ]
          },
          "metadata": {},
          "execution_count": 53
        }
      ],
      "source": [
        "# This will test your function\n",
        "test_greater(7,6)"
      ]
    },
    {
      "cell_type": "code",
      "execution_count": 54,
      "metadata": {
        "colab": {
          "base_uri": "https://localhost:8080/"
        },
        "id": "6bqbU3hLZPAK",
        "outputId": "55d99417-4461-447b-f447-c17ad609f708"
      },
      "outputs": [
        {
          "output_type": "execute_result",
          "data": {
            "text/plain": [
              "12"
            ]
          },
          "metadata": {},
          "execution_count": 54
        }
      ],
      "source": [
        "test_greater(11,12)"
      ]
    },
    {
      "cell_type": "markdown",
      "metadata": {
        "id": "Bj60oU9IZPAK"
      },
      "source": [
        "## 2. Now write a function that returns the largest element on a list"
      ]
    },
    {
      "cell_type": "code",
      "execution_count": 55,
      "metadata": {
        "id": "yfOFzyDZZPAK"
      },
      "outputs": [],
      "source": [
        "def test_largest(lst):\n",
        "    if lst == []:\n",
        "        return None\n",
        "    else:\n",
        "        largest = lst[0]\n",
        "        for num in lst:\n",
        "            if num > largest:\n",
        "                largest = num\n",
        "        return largest"
      ]
    },
    {
      "cell_type": "code",
      "execution_count": 56,
      "metadata": {
        "colab": {
          "base_uri": "https://localhost:8080/"
        },
        "id": "Qsavve3SZPAK",
        "outputId": "b9f4b962-7563-471f-cd07-2afb82cad3e8"
      },
      "outputs": [
        {
          "output_type": "execute_result",
          "data": {
            "text/plain": [
              "4"
            ]
          },
          "metadata": {},
          "execution_count": 56
        }
      ],
      "source": [
        "# This will test your function\n",
        "larger_list = [1,2,3,4,0]\n",
        "test_largest(larger_list)"
      ]
    },
    {
      "cell_type": "markdown",
      "metadata": {
        "id": "owGp3-3sZPAL"
      },
      "source": [
        "## 3. Write a function that sums all the elements on a list"
      ]
    },
    {
      "cell_type": "code",
      "execution_count": 58,
      "metadata": {
        "id": "kC4Gr5mrZPAL"
      },
      "outputs": [],
      "source": [
        "def test_sum(lst):\n",
        "  sum_lst = 0\n",
        "  for num in lst:\n",
        "    sum_lst += num\n",
        "  return sum_lst\n"
      ]
    },
    {
      "cell_type": "code",
      "execution_count": 59,
      "metadata": {
        "scrolled": true,
        "colab": {
          "base_uri": "https://localhost:8080/"
        },
        "id": "jQvgCbteZPAL",
        "outputId": "08fc69db-234c-4f40-a202-a22ea28e3fa6"
      },
      "outputs": [
        {
          "output_type": "execute_result",
          "data": {
            "text/plain": [
              "10"
            ]
          },
          "metadata": {},
          "execution_count": 59
        }
      ],
      "source": [
        "# This will test your function\n",
        "sum_all = [1,2,3,4,0]\n",
        "test_sum(sum_all)"
      ]
    },
    {
      "cell_type": "markdown",
      "metadata": {
        "id": "882UNNIXZPAL"
      },
      "source": [
        "## 4. Write another function that multiplies all the elements on a list"
      ]
    },
    {
      "cell_type": "code",
      "execution_count": null,
      "metadata": {
        "id": "dg3skXJwZPAM"
      },
      "outputs": [],
      "source": [
        "def test_mult(lst):\n",
        "  mult_lst = 1\n",
        "  for num in lst:\n",
        "    mult_lst *= num\n",
        "  return mult_lst"
      ]
    },
    {
      "cell_type": "code",
      "execution_count": null,
      "metadata": {
        "scrolled": true,
        "colab": {
          "base_uri": "https://localhost:8080/"
        },
        "id": "9TH2_I60ZPAM",
        "outputId": "9be44137-28f8-42d5-f330-41a126795b9b"
      },
      "outputs": [
        {
          "output_type": "execute_result",
          "data": {
            "text/plain": [
              "120"
            ]
          },
          "metadata": {},
          "execution_count": 25
        }
      ],
      "source": [
        "# This will test your function\n",
        "mult_all = [1,2,3,4,5]\n",
        "test_mult(mult_all)"
      ]
    },
    {
      "cell_type": "markdown",
      "metadata": {
        "id": "00PvjpfOZPAM"
      },
      "source": [
        "## 5. Now combine those two ideas and write a function that receives a list and either \"+\" or \"*\" and outputs acordingly"
      ]
    },
    {
      "cell_type": "code",
      "execution_count": 60,
      "metadata": {
        "id": "1gs6cr18ZPAM"
      },
      "outputs": [],
      "source": [
        "from array import array\n",
        "def oper_all(arr, oper):\n",
        "        if not arr:\n",
        "            return None\n",
        "\n",
        "        if oper == \"sum\":\n",
        "            result = 0\n",
        "            for num in arr:\n",
        "                result += num\n",
        "            return result\n",
        "        elif oper == \"multi\":\n",
        "            result = 1\n",
        "            for num in arr:\n",
        "                result *= num\n",
        "            return result\n",
        "        else:\n",
        "            return \"Invalid operation\"\n"
      ]
    },
    {
      "cell_type": "code",
      "execution_count": 61,
      "metadata": {
        "colab": {
          "base_uri": "https://localhost:8080/"
        },
        "id": "JpoUpSAGZPAM",
        "outputId": "6f5e2c07-3c74-4813-e26c-4e88e68873b9"
      },
      "outputs": [
        {
          "output_type": "stream",
          "name": "stdout",
          "text": [
            "15\n",
            "120\n"
          ]
        }
      ],
      "source": [
        "# This will test your function\n",
        "arr = [1,2,3,4,5]\n",
        "print(oper_all(arr, \"sum\"))\n",
        "print(oper_all(arr, \"multi\"))\n"
      ]
    },
    {
      "cell_type": "markdown",
      "metadata": {
        "id": "Uc7kFEVeZPAN"
      },
      "source": [
        "## 6. Write a function that returns the factorial of a number."
      ]
    },
    {
      "cell_type": "code",
      "execution_count": 62,
      "metadata": {
        "id": "3lU6Nwz0ZPAN"
      },
      "outputs": [],
      "source": [
        "def factorial(n):\n",
        "  if n < 0:\n",
        "    return \"Please enter a positive number\"\n",
        "  elif n == 0:\n",
        "    return 1\n",
        "  else:\n",
        "    result = 1\n",
        "    number = 1\n",
        "    while number <= n:\n",
        "      result *= number\n",
        "      number += 1\n",
        "    return result"
      ]
    },
    {
      "cell_type": "code",
      "execution_count": null,
      "metadata": {
        "id": "cWHl6wZRZPAN"
      },
      "outputs": [],
      "source": [
        "#factorial formula\n",
        "#n! = n * ( n - 1 ) *...*1\n",
        "\n",
        "# This code defines a function called \"factorial\" which takes an input \"n\". The function uses a for loop to iterate through the range of numbers\n",
        "# from 1 to n+1. For each number in that range, it multiplies the current value of x by the number in the range. At the end of the loop,\n",
        "# the function returns the final value of x, which will be the factorial of the input number \"n\".\n",
        "\n",
        "# The Factorial of a positive integer n is the product of all positive integers less than or equal to n.\n",
        "# For example, the factorial of 6 (written \"6!\") is 6 * 5 * 4 * 3 * 2 * 1 = 720.\n",
        "\n",
        "# So this function takes an input of any positive integer, and returns the factorial of that number."
      ]
    },
    {
      "cell_type": "code",
      "execution_count": 66,
      "metadata": {
        "id": "UKpeNXvbZPAN",
        "colab": {
          "base_uri": "https://localhost:8080/"
        },
        "outputId": "386b317b-b8ee-4a48-8055-39af535fe039"
      },
      "outputs": [
        {
          "name": "stdout",
          "output_type": "stream",
          "text": [
            "Please input a positive number: 5\n"
          ]
        },
        {
          "output_type": "execute_result",
          "data": {
            "text/plain": [
              "120"
            ]
          },
          "metadata": {},
          "execution_count": 66
        }
      ],
      "source": [
        "# This will test your function\n",
        "n = int(input(\"Please input a positive number: \"))\n",
        "factorial(n)"
      ]
    },
    {
      "cell_type": "markdown",
      "metadata": {
        "id": "QcEbiKBxZPAN"
      },
      "source": [
        "## 7. Write a function that takes a list and returns a list of the unique values.\n",
        "\n",
        "`NOTE: You cannot use set. 🤔`"
      ]
    },
    {
      "cell_type": "code",
      "execution_count": 18,
      "metadata": {
        "id": "MFONVrwVZPAN"
      },
      "outputs": [],
      "source": [
        "def unique(lst_un):\n",
        "  unique_list = []\n",
        "  for item in lst_un:\n",
        "      if item not in unique_list:\n",
        "        unique_list.append(item)\n",
        "  return print(unique_list)"
      ]
    },
    {
      "cell_type": "code",
      "execution_count": 19,
      "metadata": {
        "id": "lETaMAI8ZPAO",
        "colab": {
          "base_uri": "https://localhost:8080/"
        },
        "outputId": "097c452e-7438-4ca4-a250-7a5b3a28329d"
      },
      "outputs": [
        {
          "output_type": "stream",
          "name": "stdout",
          "text": [
            "[1, 2, 3, 4, 5]\n"
          ]
        }
      ],
      "source": [
        "# This will test your function\n",
        "lst_un = [1,1,2,2,3,3,4,4,5,5]\n",
        "unique(lst_un)"
      ]
    },
    {
      "cell_type": "markdown",
      "metadata": {
        "id": "W_nZhfdxZPAO"
      },
      "source": [
        "## 8. Write a function that returns the mode of a list, i.e.: the element that appears the most times.\n",
        "`NOTE: You should not use count... 🧐`"
      ]
    },
    {
      "cell_type": "code",
      "execution_count": 67,
      "metadata": {
        "id": "n3F6lKz0ZPAO"
      },
      "outputs": [],
      "source": [
        "def mode_counter(arr):\n",
        "  mode_counter = {}\n",
        "  for item in arr:\n",
        "    if item in mode_counter:\n",
        "      mode_counter[item] += 1\n",
        "    else:\n",
        "      mode_counter[item] = 1\n",
        "\n",
        "  max_count = 0\n",
        "  mode_value = None\n",
        "  for key, value in mode_counter.items():\n",
        "    if value > max_count:\n",
        "      max_count = value\n",
        "      mode_value = key\n",
        "  return mode_value"
      ]
    },
    {
      "cell_type": "code",
      "execution_count": 68,
      "metadata": {
        "id": "lQtY3G__ZPAO",
        "colab": {
          "base_uri": "https://localhost:8080/",
          "height": 35
        },
        "outputId": "fa61daa2-f7ad-4ce6-874c-6cb5e5fd8568"
      },
      "outputs": [
        {
          "output_type": "execute_result",
          "data": {
            "text/plain": [
              "'spider'"
            ],
            "application/vnd.google.colaboratory.intrinsic+json": {
              "type": "string"
            }
          },
          "metadata": {},
          "execution_count": 68
        }
      ],
      "source": [
        "arr = [\"spider\", \"spider\", \"ant\", \"beetle\", \"ant\", \"spider\", \"grasshopper\", \"ant\", \"beetle\"]\n",
        "mode_counter(arr)"
      ]
    },
    {
      "cell_type": "markdown",
      "metadata": {
        "id": "jpVnPhl6ZPAO"
      },
      "source": [
        "## 9. Write a function that calculates the standard deviation of a list.\n",
        "`NOTE: Do not use any libraries or already built functions. 😉`"
      ]
    },
    {
      "cell_type": "code",
      "execution_count": 81,
      "metadata": {
        "id": "wlAPiKptZPAO"
      },
      "outputs": [],
      "source": [
        "def st_dev(lst_sd):\n",
        "  sum_lst = 0\n",
        "  sum_elements = 0\n",
        "  sqrd_lst = []\n",
        "  sum_sqr_lst = 0\n",
        "  for num in lst_sd:\n",
        "    sum_lst += num\n",
        "    sum_elements += 1\n",
        "  mean_lst = sum_lst / sum_elements\n",
        "\n",
        "  for num in lst_sd:\n",
        "    num = (num - mean_lst) ** 2\n",
        "    sqrd_lst.append(num)\n",
        "\n",
        "  for num in sqrd_lst:\n",
        "    sum_sqr_lst += num\n",
        "  mean_sqr_lst = sum_sqr_lst / sum_elements\n",
        "\n",
        "  std_deviation = 1\n",
        "  counter = 0\n",
        "  while counter < 10:\n",
        "    std_deviation = 0.5 * (std_deviation + (mean_sqr_lst / std_deviation))\n",
        "    counter += 1\n",
        "  return std_deviation\n",
        "\n",
        "\n",
        "\n",
        "\n",
        "\n",
        ""
      ]
    },
    {
      "cell_type": "code",
      "execution_count": 82,
      "metadata": {
        "id": "_byTjWejZPAP",
        "colab": {
          "base_uri": "https://localhost:8080/"
        },
        "outputId": "23f770c9-de49-48d3-cf86-5c45c22d5768"
      },
      "outputs": [
        {
          "output_type": "execute_result",
          "data": {
            "text/plain": [
              "33.53636086399358"
            ]
          },
          "metadata": {},
          "execution_count": 82
        }
      ],
      "source": [
        "lst_sd = [7, 14, 23, 91]\n",
        "\n",
        "st_dev(lst_sd)"
      ]
    },
    {
      "cell_type": "markdown",
      "metadata": {
        "id": "paOe0g_qZPAP"
      },
      "source": [
        "## 10. Write a function to check if a string is a pangram, i.e.: if it contains all the letters of the alphabet at least once. Mind that the strings may contain characters that are not letters."
      ]
    },
    {
      "cell_type": "code",
      "execution_count": 10,
      "metadata": {
        "id": "QrkDrVwyZPAP"
      },
      "outputs": [],
      "source": [
        "def pangram(test_string):\n",
        "  alphabet = \"abcdefghijklmnopqrstuvwxyz\"\n",
        "  for char in alphabet:\n",
        "    if char not in test_string.lower():\n",
        "      return (f'The given string is not a pangram.')\n",
        "  return (f'The given string is a pangram.')"
      ]
    },
    {
      "cell_type": "code",
      "execution_count": 61,
      "metadata": {
        "id": "jC18NzrCZPAP",
        "colab": {
          "base_uri": "https://localhost:8080/",
          "height": 35
        },
        "outputId": "d7194a7a-a739-4e4a-bf20-2087a4f34cce"
      },
      "outputs": [
        {
          "output_type": "execute_result",
          "data": {
            "text/plain": [
              "'The given string is a pangram.'"
            ],
            "application/vnd.google.colaboratory.intrinsic+json": {
              "type": "string"
            }
          },
          "metadata": {},
          "execution_count": 61
        }
      ],
      "source": [
        "test_string = \"The quick brown fox jumps over the lazy dog 2 times.\"\n",
        "pangram(test_string)"
      ]
    },
    {
      "cell_type": "markdown",
      "metadata": {
        "id": "7pE20M90ZPAP"
      },
      "source": [
        "## 11. Write a function that receives a string of comma separated words and returns a string of comma separated words sorted alphabetically.\n",
        "\n",
        "`NOTE: You may use sorted but not split and definitely no join! 🤪`"
      ]
    },
    {
      "cell_type": "code",
      "execution_count": 86,
      "metadata": {
        "id": "8bJZt37-ZPAP"
      },
      "outputs": [],
      "source": [
        "def sort_alpha(test_string):\n",
        "  separate_words = []\n",
        "  word = \"\"\n",
        "\n",
        "  for char in test_string:\n",
        "    if char != \" \" and char != \",\":\n",
        "      word += char\n",
        "    else:\n",
        "      if word:\n",
        "        separate_words.append(word)\n",
        "        word = \"\"\n",
        "  if word:\n",
        "    separate_words.append(word)\n",
        "    sorted_words = sorted(separate_words)\n",
        "    result_words = \"\"\n",
        "    for word in sorted_words:\n",
        "      result_words += word + \" \"\n",
        "    result_words = result_words[:-2]\n",
        "    return result_words\n",
        "\n",
        ""
      ]
    },
    {
      "cell_type": "code",
      "execution_count": 87,
      "metadata": {
        "id": "I6QsfPRcZPAQ",
        "colab": {
          "base_uri": "https://localhost:8080/",
          "height": 35
        },
        "outputId": "e18b5282-3de2-48d0-eb11-2c5b93d051e6"
      },
      "outputs": [
        {
          "output_type": "execute_result",
          "data": {
            "text/plain": [
              "'2 The brown dog fox jumps lazy over quick the times'"
            ],
            "application/vnd.google.colaboratory.intrinsic+json": {
              "type": "string"
            }
          },
          "metadata": {},
          "execution_count": 87
        }
      ],
      "source": [
        "new_string = \"The quick brown fox, jumps over the lazy dog 2 times.\"\n",
        "sort_alpha(new_string)"
      ]
    },
    {
      "cell_type": "markdown",
      "metadata": {
        "id": "rCf_1z96ZPAQ"
      },
      "source": [
        "## 12. Write a function to check if a given password is strong (at least 8 characters, at least one lower case, at least one upper case, at least one number and at least one special character). It should output True if strong and False if not."
      ]
    },
    {
      "cell_type": "code",
      "execution_count": 45,
      "metadata": {
        "id": "eplyB1yqZPAZ"
      },
      "outputs": [],
      "source": [
        "def check_pass(password):\n",
        "  letters = (\"ABCDEFGHIJKLMNOPQRSTUVWXYZ\")\n",
        "  numbers = (\"0123456789\")\n",
        "  special = ('\"(\"!@#$%^&*\"')\n",
        "  count_elements = 0\n",
        "  for char in password:\n",
        "    count_elements += 1\n",
        "  if count_elements < 8:\n",
        "    return False\n",
        "  else:\n",
        "    count_lower = 0\n",
        "    count_upper = 0\n",
        "    count_number = 0\n",
        "    count_special = 0\n",
        "    for char in password:\n",
        "      if char in letters:\n",
        "        count_upper += 1\n",
        "      elif char in letters.lower():\n",
        "        count_lower += 1\n",
        "      elif char in numbers:\n",
        "        count_number += 1\n",
        "      elif char in special:\n",
        "        count_special += 1\n",
        "\n",
        "    if count_lower > 0 and count_upper > 0 and count_number > 0 and count_special > 0:\n",
        "      return True\n",
        "    else:\n",
        "      return False\n",
        "\n",
        "\n",
        "\n",
        "\n",
        "\n",
        "\n"
      ]
    },
    {
      "cell_type": "code",
      "execution_count": 51,
      "metadata": {
        "id": "aQCn-BoqZPAZ",
        "colab": {
          "base_uri": "https://localhost:8080/"
        },
        "outputId": "90e3660e-bc73-40ff-aead-9e15f4471ac2"
      },
      "outputs": [
        {
          "output_type": "execute_result",
          "data": {
            "text/plain": [
              "True"
            ]
          },
          "metadata": {},
          "execution_count": 51
        }
      ],
      "source": [
        "password = \"Yu%356WWsa//\"\n",
        "check_pass(password)"
      ]
    }
  ],
  "metadata": {
    "kernelspec": {
      "display_name": "Python 3 (ipykernel)",
      "language": "python",
      "name": "python3"
    },
    "language_info": {
      "codemirror_mode": {
        "name": "ipython",
        "version": 3
      },
      "file_extension": ".py",
      "mimetype": "text/x-python",
      "name": "python",
      "nbconvert_exporter": "python",
      "pygments_lexer": "ipython3",
      "version": "3.9.13"
    },
    "vscode": {
      "interpreter": {
        "hash": "aee8b7b246df8f9039afb4144a1f6fd8d2ca17a180786b69acc140d282b71a49"
      }
    },
    "colab": {
      "provenance": []
    }
  },
  "nbformat": 4,
  "nbformat_minor": 0
}